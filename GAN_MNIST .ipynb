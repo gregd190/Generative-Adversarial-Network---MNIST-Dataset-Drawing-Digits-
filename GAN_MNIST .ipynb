{
  "nbformat": 4,
  "nbformat_minor": 0,
  "metadata": {
    "colab": {
      "name": "GAN-batch.ipynb",
      "version": "0.3.2",
      "provenance": [],
      "collapsed_sections": []
    },
    "kernelspec": {
      "name": "python3",
      "display_name": "Python 3"
    },
    "accelerator": "GPU"
  },
  "cells": [
    {
      "metadata": {
        "id": "AGiGRGuTtk6J",
        "colab_type": "text"
      },
      "cell_type": "markdown",
      "source": [
        "## Generative Adversarial Networks\n",
        "This notebook will build the most basic GAN possible. It will use 2 simple, fully-connected networks to learn how to draw a single digit ('7') from the MNIST dataset. \n",
        "\n",
        "First, get the dataset from the repository:"
      ]
    },
    {
      "metadata": {
        "id": "nofqVVf0-HQm",
        "colab_type": "code",
        "colab": {
          "base_uri": "https://localhost:8080/",
          "height": 34
        },
        "outputId": "3a85c6d8-fb14-4e49-d430-9ae59f1973a5"
      },
      "cell_type": "code",
      "source": [
        "#Download the dataset from github\n",
        "\n",
        "!git clone https://github.com/gregd190/Image-Classification---MNIST-Dataset---NN-Solutions\n",
        "!cp -r Image-Classification---MNIST-Dataset---NN-Solutions/. /content/\n"
      ],
      "execution_count": 1,
      "outputs": [
        {
          "output_type": "stream",
          "text": [
            "fatal: destination path 'Image-Classification---MNIST-Dataset---NN-Solutions' already exists and is not an empty directory.\n"
          ],
          "name": "stdout"
        }
      ]
    },
    {
      "metadata": {
        "id": "wfvtLbJ2ufhP",
        "colab_type": "text"
      },
      "cell_type": "markdown",
      "source": [
        "Import the necessary libraries:"
      ]
    },
    {
      "metadata": {
        "id": "1mBBwFzK-mIm",
        "colab_type": "code",
        "colab": {
          "base_uri": "https://localhost:8080/",
          "height": 34
        },
        "outputId": "5450e43d-2c34-4113-bb02-52de945c7b57"
      },
      "cell_type": "code",
      "source": [
        "#Import the necessary libraries\n",
        "\n",
        "import numpy as np\n",
        "import keras\n",
        "import struct\n",
        "import matplotlib.pyplot as plt\n",
        "%matplotlib inline\n",
        "from keras.models import Sequential, Model\n",
        "from keras.preprocessing.image import ImageDataGenerator, array_to_img, img_to_array, load_img\n",
        "from keras.layers import Input, Conv2D, MaxPooling2D, Activation, Dropout, Flatten, Dense, GlobalAveragePooling2D\n",
        "from keras import optimizers\n"
      ],
      "execution_count": 2,
      "outputs": [
        {
          "output_type": "stream",
          "text": [
            "Using TensorFlow backend.\n"
          ],
          "name": "stderr"
        }
      ]
    },
    {
      "metadata": {
        "id": "jP4cU8zBui9S",
        "colab_type": "text"
      },
      "cell_type": "markdown",
      "source": [
        "Preprocess the data:"
      ]
    },
    {
      "metadata": {
        "id": "wif2iSLb-w5n",
        "colab_type": "code",
        "colab": {}
      },
      "cell_type": "code",
      "source": [
        "# The MNIST data is provided in a file format that needs to be read before the data can be fed to the neural network. \n",
        "def read_data(image_filename, label_filename):\n",
        "    \n",
        "    #Create arrays to store labels and pixel data\n",
        "    label_array = []\n",
        "    image_array = []\n",
        "    \n",
        "    # Load everything in some numpy arrays\n",
        "    with open(label_filename, 'rb') as flbl:\n",
        "        magic, num = struct.unpack(\">II\", flbl.read(8))\n",
        "        lbl = np.fromfile(flbl, dtype=np.int8)\n",
        "\n",
        "    with open(image_filename, 'rb') as fimg:\n",
        "        magic, num, rows, cols = struct.unpack(\">IIII\", fimg.read(16))\n",
        "        img = np.fromfile(fimg, dtype=np.uint8).reshape(len(lbl), rows, cols)\n",
        "\n",
        "    for i in range(len(lbl)):\n",
        "        label_array.append(lbl[i])\n",
        "        image_array.append(img[i])\n",
        "    \n",
        "    #Convert arrays to np.arrays\n",
        "    image_array = np.array(image_array)\n",
        "    label_array = np.array(label_array)\n",
        "    \n",
        "    return(image_array, label_array)\n"
      ],
      "execution_count": 0,
      "outputs": []
    },
    {
      "metadata": {
        "id": "C_AkvMWAunXl",
        "colab_type": "text"
      },
      "cell_type": "markdown",
      "source": [
        "Check that the data arrays look correct:"
      ]
    },
    {
      "metadata": {
        "id": "Vz3UEt5yCmEK",
        "colab_type": "code",
        "colab": {
          "base_uri": "https://localhost:8080/",
          "height": 67
        },
        "outputId": "b891cdd4-aad6-4284-ea09-066fbaf8db5e"
      },
      "cell_type": "code",
      "source": [
        "train_images, train_labels = read_data('train-images.idx3-ubyte', 'train-labels.idx1-ubyte')\n",
        "print('Shape of train_labels = ',np.shape(train_labels))\n",
        "print('Shape of train_images = ', np.shape(train_images))\n",
        "\n",
        "print('train_labels[0:5] = ', train_labels[0:5])\n"
      ],
      "execution_count": 4,
      "outputs": [
        {
          "output_type": "stream",
          "text": [
            "Shape of train_labels =  (60000,)\n",
            "Shape of train_images =  (60000, 28, 28)\n",
            "train_labels[0:5] =  [5 0 4 1 9]\n"
          ],
          "name": "stdout"
        }
      ]
    },
    {
      "metadata": {
        "id": "MYiXA3xKSjeS",
        "colab_type": "text"
      },
      "cell_type": "markdown",
      "source": [
        "Find the array indexes of the number 5"
      ]
    },
    {
      "metadata": {
        "id": "GXkoDU-jPf13",
        "colab_type": "code",
        "colab": {
          "base_uri": "https://localhost:8080/",
          "height": 50
        },
        "outputId": "8e69d928-794c-4cc0-d720-6a564d4f49c6"
      },
      "cell_type": "code",
      "source": [
        "sevens_index = np.nonzero(train_labels==7)\n",
        "\n",
        "#Test they are all 7's\n",
        "print(train_labels[sevens_index])\n",
        "\n",
        "sevens = train_images[sevens_index]\n",
        "np.shape(sevens)\n",
        "\n"
      ],
      "execution_count": 5,
      "outputs": [
        {
          "output_type": "stream",
          "text": [
            "[7 7 7 ... 7 7 7]\n"
          ],
          "name": "stdout"
        },
        {
          "output_type": "execute_result",
          "data": {
            "text/plain": [
              "(6265, 28, 28)"
            ]
          },
          "metadata": {
            "tags": []
          },
          "execution_count": 5
        }
      ]
    },
    {
      "metadata": {
        "id": "LCQ0DndFYPdn",
        "colab_type": "text"
      },
      "cell_type": "markdown",
      "source": [
        "We have a training set of 6265 images of the digit 7.\n",
        "\n",
        "\n",
        "Let's build the networks. "
      ]
    },
    {
      "metadata": {
        "id": "Cunw66FSYg_H",
        "colab_type": "code",
        "colab": {
          "base_uri": "https://localhost:8080/",
          "height": 588
        },
        "outputId": "e7d11a1c-f62a-4f69-908f-41540c444336"
      },
      "cell_type": "code",
      "source": [
        "def build_discriminator_model(input_shape, num_output_nodes, lr, size):\n",
        "    \n",
        "    model = Sequential()\n",
        "    \n",
        "    model.add(Dense(size[0], input_shape = input_shape, activation = 'relu'))\n",
        "    \n",
        "    for i in range(1,len(size)):\n",
        "        model.add(Dense(size[i], activation = 'relu'))\n",
        "        model.add(Dropout(0.5))\n",
        "    \n",
        "    model.add(Dense(num_output_nodes, activation = 'sigmoid')) \n",
        "    \n",
        "    adam = optimizers.Adam(lr=lr, beta_1=0.9, beta_2=0.999)\n",
        "    \n",
        "    model.compile(loss = 'binary_crossentropy', optimizer = adam)\n",
        "    \n",
        "    model.summary()\n",
        "    \n",
        "    return model\n",
        "\n",
        "def build_generator_model(input_shape, num_output_nodes, lr, size):\n",
        "    \n",
        "    model = Sequential()\n",
        "    \n",
        "    model.add(Dense(size[0], input_shape = input_shape, activation = 'relu'))\n",
        "    \n",
        "    for i in range(1,len(size)):\n",
        "        model.add(Dense(size[i], activation = 'relu'))\n",
        "    \n",
        "    model.add(Dense(num_output_nodes, activation = 'sigmoid')) \n",
        "    \n",
        "    adam = optimizers.Adam(lr=lr, beta_1=0.9, beta_2=0.999)\n",
        "    \n",
        "    model.compile(loss = 'binary_crossentropy', optimizer = adam)\n",
        "    \n",
        "    model.summary()\n",
        "    \n",
        "    return model\n",
        "\n",
        "#Discriminator takes input of 784 pixels  \n",
        "discriminator = build_discriminator_model((784,), 1, 1e-4, [256,128,64])\n",
        "\n",
        "#Generator will take 100 inputs of random noise\n",
        "generator = build_generator_model((100,), 784, 1e-5, [64,128,256]) \n",
        "\n"
      ],
      "execution_count": 6,
      "outputs": [
        {
          "output_type": "stream",
          "text": [
            "_________________________________________________________________\n",
            "Layer (type)                 Output Shape              Param #   \n",
            "=================================================================\n",
            "dense_1 (Dense)              (None, 256)               200960    \n",
            "_________________________________________________________________\n",
            "dense_2 (Dense)              (None, 128)               32896     \n",
            "_________________________________________________________________\n",
            "dropout_1 (Dropout)          (None, 128)               0         \n",
            "_________________________________________________________________\n",
            "dense_3 (Dense)              (None, 64)                8256      \n",
            "_________________________________________________________________\n",
            "dropout_2 (Dropout)          (None, 64)                0         \n",
            "_________________________________________________________________\n",
            "dense_4 (Dense)              (None, 1)                 65        \n",
            "=================================================================\n",
            "Total params: 242,177\n",
            "Trainable params: 242,177\n",
            "Non-trainable params: 0\n",
            "_________________________________________________________________\n",
            "_________________________________________________________________\n",
            "Layer (type)                 Output Shape              Param #   \n",
            "=================================================================\n",
            "dense_5 (Dense)              (None, 64)                6464      \n",
            "_________________________________________________________________\n",
            "dense_6 (Dense)              (None, 128)               8320      \n",
            "_________________________________________________________________\n",
            "dense_7 (Dense)              (None, 256)               33024     \n",
            "_________________________________________________________________\n",
            "dense_8 (Dense)              (None, 784)               201488    \n",
            "=================================================================\n",
            "Total params: 249,296\n",
            "Trainable params: 249,296\n",
            "Non-trainable params: 0\n",
            "_________________________________________________________________\n"
          ],
          "name": "stdout"
        }
      ]
    },
    {
      "metadata": {
        "id": "MBjEwXAXAmES",
        "colab_type": "code",
        "colab": {}
      },
      "cell_type": "code",
      "source": [
        "def build_gan_model(discriminator, generator):\n",
        "    # We initially set trainable to False since we only want to train either the\n",
        "    # generator or discriminator at a time\n",
        "    discriminator.trainable = False\n",
        "    # gan input (noise) will be 100-dimensional vectors\n",
        "    gan_input = Input(shape=(100,))\n",
        "    # the output of the generator (an image)\n",
        "    generated_image = generator(gan_input)\n",
        "    # get the output of the discriminator (probability if the image is real or not)\n",
        "    gan_output = discriminator(generated_image)\n",
        "    gan = Model(inputs=gan_input, outputs=gan_output)\n",
        "    adam = optimizers.Adam(lr=1e-5, beta_1=0.9, beta_2=0.999)\n",
        "    gan.compile(loss='binary_crossentropy', optimizer=adam)\n",
        "    return gan\n",
        "\n",
        "gan_model = build_gan_model(discriminator, generator) "
      ],
      "execution_count": 0,
      "outputs": []
    },
    {
      "metadata": {
        "id": "3NMmHFpCdhfJ",
        "colab_type": "text"
      },
      "cell_type": "markdown",
      "source": [
        "We need a way of determining whether to feed an image from the training set, or an image from the generator to the discriminator. We'll create a function that decides based on a 50:50 split"
      ]
    },
    {
      "metadata": {
        "id": "KitL_JcUVdoG",
        "colab_type": "code",
        "colab": {
          "base_uri": "https://localhost:8080/",
          "height": 282
        },
        "outputId": "101c9ee8-d320-423c-970b-04057d6cf1a9"
      },
      "cell_type": "code",
      "source": [
        "def plot_generated_image():\n",
        "  noise = np.array([np.random.uniform(0,1,100)])\n",
        "  generated_image = generator.predict(noise)\n",
        "  generated_image = generated_image.reshape(28, 28)\n",
        "  \n",
        "  return(generated_image)\n",
        "  \n",
        "#Test it - At this stage it should just be random pixels\n",
        "plt.imshow(plot_generated_image(), interpolation='nearest', cmap='gray_r')\n"
      ],
      "execution_count": 8,
      "outputs": [
        {
          "output_type": "execute_result",
          "data": {
            "text/plain": [
              "<matplotlib.image.AxesImage at 0x7fd9fabd8c18>"
            ]
          },
          "metadata": {
            "tags": []
          },
          "execution_count": 8
        },
        {
          "output_type": "display_data",
          "data": {
            "image/png": "[encoded data removed]",
            "text/plain": [
              "<matplotlib.figure.Figure at 0x7fda38950908>"
            ]
          },
          "metadata": {
            "tags": []
          }
        }
      ]
    },
    {
      "metadata": {
        "id": "cUIIo7Ohbm9P",
        "colab_type": "code",
        "colab": {}
      },
      "cell_type": "code",
      "source": [
        "#Will return either a randomly generated image, or an image from the training set, plus either a 0 or 1, indicating whether the image is real(1) or generated(0)\n",
        "\n",
        "def pick_image():\n",
        "  if np.random.uniform() < 0.5:\n",
        "    a = np.random.randint(0,len(sevens))\n",
        "    #print('TRUE IMAGE', np.shape(np.ndarray.flatten(sevens[a])))\n",
        "    return(np.reshape(sevens[a],(1,784)),1)\n",
        "  else:\n",
        "    random_inputs = np.array([np.random.uniform(0,1,100)])\n",
        "    generated_image = generator.predict(random_inputs)      \n",
        "    #print('FAKE IMAGE', np.shape(generated_image))\n",
        "    return(generated_image,0)\n",
        "\n",
        "  "
      ],
      "execution_count": 0,
      "outputs": []
    },
    {
      "metadata": {
        "id": "hHJWylrKoFlv",
        "colab_type": "text"
      },
      "cell_type": "markdown",
      "source": [
        "Now we need to feed our image into our discriminator model, and then train the two models based on the accuracy of the prediction:"
      ]
    },
    {
      "metadata": {
        "id": "_EWlcWLZZdkY",
        "colab_type": "code",
        "colab": {}
      },
      "cell_type": "code",
      "source": [
        "def train(batches=1, batch_size=256):\n",
        "    \n",
        "    #Create a list to store images generated after every 100 batches\n",
        "    generated_images = []\n",
        "    \n",
        "    for e in range(1, batches+1):\n",
        "        #Print images every 1000 batches\n",
        "        if e%100==0:\n",
        "          print('After ', e,' batches:')\n",
        "          #image = [plot_generated_image() for i in range(25)]\n",
        "          #image = np.reshape(image,(140,140))\n",
        "            \n",
        "          plt.imshow(plot_generated_image(), cmap='gray_r')\n",
        "          #ticks = [28*i for i in range(5)]\n",
        "          #plt.xticks(ticks)\n",
        "          #plt.yticks(ticks)\n",
        "          #plt.grid(color='r')\n",
        "          plt.show()\n",
        "          \n",
        "           \n",
        "        #Initialize arrays for storage of images and labels for the entire batch\n",
        "        images_array = []\n",
        "        labels_array = []\n",
        "        \n",
        "        #Get images and labels\n",
        "        for b in range(batch_size):\n",
        "        \n",
        "          image, label = pick_image()\n",
        "          images_array.append(image)\n",
        "          labels_array.append([label])\n",
        "        \n",
        "        images_array = np.array(images_array)\n",
        "        images_array = np.reshape(images_array,(batch_size,784))\n",
        "        labels_array = np.array(labels_array)\n",
        "        \n",
        "        # Train discriminator\n",
        "        discriminator.trainable = True\n",
        "        history = discriminator.fit(images_array, labels_array, verbose=False)\n",
        "        discriminator_loss_history.append(history.history[\"loss\"])\n",
        "\n",
        "        # Train generator\n",
        "        noise_array = np.random.uniform(0,1,size=[batch_size,100])\n",
        "        ones_array = np.ones((batch_size,1))\n",
        "        \n",
        "        discriminator.trainable = False\n",
        "        history = gan_model.fit(noise_array, ones_array, verbose=False)\n",
        "        gan_loss_history.append(history.history[\"loss\"])\n",
        "        \n",
        "    return(generated_images)\n",
        "\n",
        "# Initialise arrays to store the loss information during training.         \n",
        "discriminator_loss_history = []\n",
        "gan_loss_history = []\n",
        "\n",
        "\n"
      ],
      "execution_count": 0,
      "outputs": []
    },
    {
      "metadata": {
        "id": "NXf4rFSxIxZN",
        "colab_type": "code",
        "colab": {
          "base_uri": "https://localhost:8080/",
          "height": 4518
        },
        "outputId": "36594f11-d19c-44eb-ac8b-0079de0c8549"
      },
      "cell_type": "code",
      "source": [
        "train(5000)\n",
        "\n"
      ],
      "execution_count": 0,
      "outputs": [
        {
          "output_type": "stream",
          "text": [
            "After  100  batches:\n"
          ],
          "name": "stdout"
        },
        {
          "output_type": "display_data",
          "data": {
            "image/png": "[encoded data removed]",
            "text/plain": [
              "<matplotlib.figure.Figure at 0x7fd9faba88d0>"
            ]
          },
          "metadata": {
            "tags": []
          }
        },
        {
          "output_type": "stream",
          "text": [
            "After  200  batches:\n"
          ],
          "name": "stdout"
        },
        {
          "output_type": "display_data",
          "data": {
            "image/png": "[encoded data removed]",
            "text/plain": [
              "<matplotlib.figure.Figure at 0x7fd9faba8588>"
            ]
          },
          "metadata": {
            "tags": []
          }
        },
        {
          "output_type": "stream",
          "text": [
            "After  300  batches:\n"
          ],
          "name": "stdout"
        },
        {
          "output_type": "display_data",
          "data": {
            "image/png": "[encoded data removed]",
            "text/plain": [
              "<matplotlib.figure.Figure at 0x7fd9f10d7898>"
            ]
          },
          "metadata": {
            "tags": []
          }
        },
        {
          "output_type": "stream",
          "text": [
            "After  400  batches:\n"
          ],
          "name": "stdout"
        },
        {
          "output_type": "display_data",
          "data": {
            "image/png": "[encoded data removed]",
            "text/plain": [
              "<matplotlib.figure.Figure at 0x7fd9f104a6a0>"
            ]
          },
          "metadata": {
            "tags": []
          }
        },
        {
          "output_type": "stream",
          "text": [
            "After  500  batches:\n"
          ],
          "name": "stdout"
        },
        {
          "output_type": "display_data",
          "data": {
            "image/png": "[encoded data removed]",
            "text/plain": [
              "<matplotlib.figure.Figure at 0x7fd9fab85ef0>"
            ]
          },
          "metadata": {
            "tags": []
          }
        },
        {
          "output_type": "stream",
          "text": [
            "After  600  batches:\n"
          ],
          "name": "stdout"
        },
        {
          "output_type": "display_data",
          "data": {
            "image/png": "[encoded data removed]",
            "text/plain": [
              "<matplotlib.figure.Figure at 0x7fd9f0ffc588>"
            ]
          },
          "metadata": {
            "tags": []
          }
        },
        {
          "output_type": "stream",
          "text": [
            "After  700  batches:\n"
          ],
          "name": "stdout"
        },
        {
          "output_type": "display_data",
          "data": {
            "image/png": "[encoded data removed]",
            "text/plain": [
              "<matplotlib.figure.Figure at 0x7fd9f107cc50>"
            ]
          },
          "metadata": {
            "tags": []
          }
        },
        {
          "output_type": "stream",
          "text": [
            "After  800  batches:\n"
          ],
          "name": "stdout"
        },
        {
          "output_type": "display_data",
          "data": {
            "image/png": "[encoded data removed]",
            "text/plain": [
              "<matplotlib.figure.Figure at 0x7fd9f10acdd8>"
            ]
          },
          "metadata": {
            "tags": []
          }
        },
        {
          "output_type": "stream",
          "text": [
            "After  900  batches:\n"
          ],
          "name": "stdout"
        },
        {
          "output_type": "display_data",
          "data": {
            "image/png": "[encoded data removed]",
            "text/plain": [
              "<matplotlib.figure.Figure at 0x7fd9f0f2e748>"
            ]
          },
          "metadata": {
            "tags": []
          }
        },
        {
          "output_type": "stream",
          "text": [
            "After  1000  batches:\n"
          ],
          "name": "stdout"
        },
        {
          "output_type": "display_data",
          "data": {
            "image/png": "[encoded data removed]",
            "text/plain": [
              "<matplotlib.figure.Figure at 0x7fd9f0ebb908>"
            ]
          },
          "metadata": {
            "tags": []
          }
        },
        {
          "output_type": "stream",
          "text": [
            "After  1100  batches:\n"
          ],
          "name": "stdout"
        },
        {
          "output_type": "display_data",
          "data": {
            "image/png": "[encoded data removed]",
            "text/plain": [
              "<matplotlib.figure.Figure at 0x7fd9f0e7e6d8>"
            ]
          },
          "metadata": {
            "tags": []
          }
        },
        {
          "output_type": "stream",
          "text": [
            "After  1200  batches:\n"
          ],
          "name": "stdout"
        },
        {
          "output_type": "display_data",
          "data": {
            "image/png": "[encoded data removed]",
            "text/plain": [
              "<matplotlib.figure.Figure at 0x7fd9f0ebb5f8>"
            ]
          },
          "metadata": {
            "tags": []
          }
        },
        {
          "output_type": "stream",
          "text": [
            "After  1300  batches:\n"
          ],
          "name": "stdout"
        },
        {
          "output_type": "display_data",
          "data": {
            "image/png": "[encoded data removed]",
            "text/plain": [
              "<matplotlib.figure.Figure at 0x7fd9f0dd5898>"
            ]
          },
          "metadata": {
            "tags": []
          }
        },
        {
          "output_type": "stream",
          "text": [
            "After  1400  batches:\n"
          ],
          "name": "stdout"
        },
        {
          "output_type": "display_data",
          "data": {
            "image/png": "[encoded data removed]",
            "text/plain": [
              "<matplotlib.figure.Figure at 0x7fd9f0d9e748>"
            ]
          },
          "metadata": {
            "tags": []
          }
        },
        {
          "output_type": "stream",
          "text": [
            "After  1500  batches:\n"
          ],
          "name": "stdout"
        },
        {
          "output_type": "display_data",
          "data": {
            "image/png": "[encoded data removed]",
            "text/plain": [
              "<matplotlib.figure.Figure at 0x7fd9f0cafdd8>"
            ]
          },
          "metadata": {
            "tags": []
          }
        },
        {
          "output_type": "stream",
          "text": [
            "After  1600  batches:\n"
          ],
          "name": "stdout"
        },
        {
          "output_type": "display_data",
          "data": {
            "image/png": "[encoded data removed]",
            "text/plain": [
              "<matplotlib.figure.Figure at 0x7fd9f0eb6f60>"
            ]
          },
          "metadata": {
            "tags": []
          }
        },
        {
          "output_type": "stream",
          "text": [
            "After  1700  batches:\n"
          ],
          "name": "stdout"
        },
        {
          "output_type": "display_data",
          "data": {
            "image/png": "[encoded data removed]",
            "text/plain": [
              "<matplotlib.figure.Figure at 0x7fd9f10974a8>"
            ]
          },
          "metadata": {
            "tags": []
          }
        }
      ]
    },
    {
      "metadata": {
        "id": "VEfLlnl5vJdQ",
        "colab_type": "text"
      },
      "cell_type": "markdown",
      "source": [
        "Plot the loss of the models vs training iterations to allow optimisation of the hyperparameters and to know when further training is unlikely to lead to further improvement."
      ]
    },
    {
      "metadata": {
        "id": "ZimA2AwQtPuQ",
        "colab_type": "code",
        "colab": {
          "base_uri": "https://localhost:8080/",
          "height": 265
        },
        "outputId": "a69d4c06-bbb7-4d57-fdb3-b1a3b2ff3b03"
      },
      "cell_type": "code",
      "source": [
        "#Discriminator loss is extremely spiky. We'll smooth it to better see trends. \n",
        "discriminator_loss_rolling_avg =[]\n",
        "discriminator_loss_iter_counter = []\n",
        "for i in range(10,len(discriminator_loss_history)):\n",
        "  discriminator_loss_rolling_avg.append(np.average(discriminator_loss_history[i-10:i]))\n",
        "  discriminator_loss_iter_counter.append(i)\n",
        "  \n",
        "plt.subplot('211')\n",
        "plt.plot(gan_loss_history,'r', label='GAN Loss')\n",
        "plt.legend()\n",
        "plt.subplot('212')\n",
        "plt.plot(discriminator_loss_iter_counter,discriminator_loss_rolling_avg,'c', label='Disc. Loss')\n",
        "plt.legend()\n",
        "plt.show()"
      ],
      "execution_count": 43,
      "outputs": [
        {
          "output_type": "display_data",
          "data": {
            "image/png": "[encoded data removed]",
            "text/plain": [
              "<matplotlib.figure.Figure at 0x7fa6b347c780>"
            ]
          },
          "metadata": {
            "tags": []
          }
        }
      ]
    },
    {
      "metadata": {
        "id": "D0sEJW3Syh5X",
        "colab_type": "text"
      },
      "cell_type": "markdown",
      "source": [
        "## Summary\n",
        "\n",
        "A very simple generative adversarial network was trained to draw a single digit. This could easily be expanded to draw any digit by training on the entire MNIST dataset. It may be improved, either in final quality or by allowing training to occur over a smaller number of iterations through the implementation of a convolutional neural network.  "
      ]
    }
  ]
}